{
  "nbformat": 4,
  "nbformat_minor": 0,
  "metadata": {
    "colab": {
      "name": "Copy of original SGD",
      "version": "0.3.2",
      "provenance": [],
      "collapsed_sections": [],
      "include_colab_link": true
    },
    "kernelspec": {
      "name": "python3",
      "display_name": "Python 3"
    },
    "accelerator": "GPU"
  },
  "cells": [
    {
      "cell_type": "markdown",
      "metadata": {
        "id": "view-in-github",
        "colab_type": "text"
      },
      "source": [
        "<a href=\"https://colab.research.google.com/github/Evereth87/ML-Open-Source-Implementations/blob/master/Copy_of_original_SGD.ipynb\" target=\"_parent\"><img src=\"https://colab.research.google.com/assets/colab-badge.svg\" alt=\"Open In Colab\"/></a>"
      ]
    },
    {
      "cell_type": "code",
      "metadata": {
        "id": "mot_WJuRniRg",
        "colab_type": "code",
        "outputId": "eab4f121-e6ca-4a19-d74e-a5f1885e0b26",
        "colab": {
          "base_uri": "https://localhost:8080/",
          "height": 165
        }
      },
      "source": [
        "!git clone https://github.com/Evereth87/Original.git"
      ],
      "execution_count": 0,
      "outputs": [
        {
          "output_type": "stream",
          "text": [
            "Cloning into 'Original'...\n",
            "remote: Enumerating objects: 5528, done.\u001b[K\n",
            "remote: Counting objects: 100% (5528/5528), done.\u001b[K\n",
            "remote: Compressing objects: 100% (5484/5484), done.\u001b[K\n",
            "remote: Total 5528 (delta 41), reused 5521 (delta 40), pack-reused 0\n",
            "Receiving objects: 100% (5528/5528), 184.05 MiB | 37.31 MiB/s, done.\n",
            "Resolving deltas: 100% (41/41), done.\n",
            "Checking out files: 100% (5502/5502), done.\n"
          ],
          "name": "stdout"
        }
      ]
    },
    {
      "cell_type": "code",
      "metadata": {
        "id": "K5zSBxRrFIG5",
        "colab_type": "code",
        "outputId": "c65ccd10-b1fb-463d-86a4-ef6fad738cdf",
        "colab": {
          "base_uri": "https://localhost:8080/",
          "height": 277
        }
      },
      "source": [
        "pip install Keras==2.1.6"
      ],
      "execution_count": 0,
      "outputs": [
        {
          "output_type": "stream",
          "text": [
            "Collecting Keras==2.1.6\n",
            "\u001b[?25l  Downloading https://files.pythonhosted.org/packages/54/e8/eaff7a09349ae9bd40d3ebaf028b49f5e2392c771f294910f75bb608b241/Keras-2.1.6-py2.py3-none-any.whl (339kB)\n",
            "\u001b[K     |████████████████████████████████| 348kB 6.9MB/s \n",
            "\u001b[?25hRequirement already satisfied: pyyaml in /usr/local/lib/python3.6/dist-packages (from Keras==2.1.6) (3.13)\n",
            "Requirement already satisfied: six>=1.9.0 in /usr/local/lib/python3.6/dist-packages (from Keras==2.1.6) (1.12.0)\n",
            "Requirement already satisfied: numpy>=1.9.1 in /usr/local/lib/python3.6/dist-packages (from Keras==2.1.6) (1.16.4)\n",
            "Requirement already satisfied: scipy>=0.14 in /usr/local/lib/python3.6/dist-packages (from Keras==2.1.6) (1.3.0)\n",
            "Requirement already satisfied: h5py in /usr/local/lib/python3.6/dist-packages (from Keras==2.1.6) (2.8.0)\n",
            "Installing collected packages: Keras\n",
            "  Found existing installation: Keras 2.2.4\n",
            "    Uninstalling Keras-2.2.4:\n",
            "      Successfully uninstalled Keras-2.2.4\n",
            "Successfully installed Keras-2.1.6\n"
          ],
          "name": "stdout"
        }
      ]
    },
    {
      "cell_type": "code",
      "metadata": {
        "id": "UgU_j2GhomDl",
        "colab_type": "code",
        "outputId": "77b71d96-c17e-467a-e99f-dd2ea8f34759",
        "colab": {
          "base_uri": "https://localhost:8080/",
          "height": 35
        }
      },
      "source": [
        "import numpy as np\n",
        "import keras\n",
        "from keras import backend as K\n",
        "from keras.models import Sequential\n",
        "from keras.layers import Activation\n",
        "from keras.layers.core import Dense, Flatten\n",
        "from keras.optimizers import SGD\n",
        "from keras.metrics import categorical_crossentropy\n",
        "from keras.callbacks import EarlyStopping\n",
        "from keras.preprocessing.image import ImageDataGenerator\n",
        "from keras.layers.normalization import BatchNormalization\n",
        "from keras.layers.convolutional import *\n",
        "\n"
      ],
      "execution_count": 0,
      "outputs": [
        {
          "output_type": "stream",
          "text": [
            "Using TensorFlow backend.\n"
          ],
          "name": "stderr"
        }
      ]
    },
    {
      "cell_type": "code",
      "metadata": {
        "id": "52xebK83orp0",
        "colab_type": "code",
        "colab": {}
      },
      "source": [
        "train_path = 'Original/train'\n",
        "valid_path = 'Original/valid'\n",
        "test_path = 'Original/test' \n",
        "\n"
      ],
      "execution_count": 0,
      "outputs": []
    },
    {
      "cell_type": "code",
      "metadata": {
        "id": "2KTp9vWZOr_Q",
        "colab_type": "code",
        "outputId": "a284d52a-7a08-489b-a69e-cbc0b5d1e921",
        "colab": {
          "base_uri": "https://localhost:8080/",
          "height": 72
        }
      },
      "source": [
        "train_batches = ImageDataGenerator().flow_from_directory(train_path, target_size=(224,224), classes=['cezanne', 'degas', 'gaugain', 'monet', 'raffaello', 'rembrandt', 'renoir', 'rubens', 'tiziano', 'vangogh'], batch_size=32)\n",
        "valid_batches = ImageDataGenerator().flow_from_directory(valid_path, target_size=(224,224), classes=['cezanne', 'degas', 'gaugain', 'monet', 'raffaello', 'rembrandt', 'renoir', 'rubens', 'tiziano', 'vangogh'], batch_size=32)\n",
        "test_batches = ImageDataGenerator().flow_from_directory(test_path, target_size=(224,224), classes=['cezanne', 'degas', 'gaugain', 'monet', 'raffaello', 'rembrandt', 'renoir', 'rubens', 'tiziano', 'vangogh'], batch_size=32)"
      ],
      "execution_count": 0,
      "outputs": [
        {
          "output_type": "stream",
          "text": [
            "Found 3997 images belonging to 10 classes.\n",
            "Found 1000 images belonging to 10 classes.\n",
            "Found 500 images belonging to 10 classes.\n"
          ],
          "name": "stdout"
        }
      ]
    },
    {
      "cell_type": "code",
      "metadata": {
        "id": "U9WrQsXyO_AE",
        "colab_type": "code",
        "outputId": "4366c697-c3be-4607-ac7e-57b7ca1b2a6a",
        "colab": {
          "base_uri": "https://localhost:8080/",
          "height": 314
        }
      },
      "source": [
        "RaphaelModel = keras.applications.vgg16.VGG16()"
      ],
      "execution_count": 0,
      "outputs": [
        {
          "output_type": "stream",
          "text": [
            "WARNING: Logging before flag parsing goes to stderr.\n",
            "W0723 15:27:06.473481 140553635501952 deprecation_wrapper.py:119] From /usr/local/lib/python3.6/dist-packages/keras/backend/tensorflow_backend.py:68: The name tf.get_default_graph is deprecated. Please use tf.compat.v1.get_default_graph instead.\n",
            "\n",
            "W0723 15:27:06.521452 140553635501952 deprecation_wrapper.py:119] From /usr/local/lib/python3.6/dist-packages/keras/backend/tensorflow_backend.py:508: The name tf.placeholder is deprecated. Please use tf.compat.v1.placeholder instead.\n",
            "\n",
            "W0723 15:27:06.529714 140553635501952 deprecation_wrapper.py:119] From /usr/local/lib/python3.6/dist-packages/keras/backend/tensorflow_backend.py:3837: The name tf.random_uniform is deprecated. Please use tf.random.uniform instead.\n",
            "\n",
            "W0723 15:27:06.566831 140553635501952 deprecation_wrapper.py:119] From /usr/local/lib/python3.6/dist-packages/keras/backend/tensorflow_backend.py:3661: The name tf.nn.max_pool is deprecated. Please use tf.nn.max_pool2d instead.\n",
            "\n"
          ],
          "name": "stderr"
        },
        {
          "output_type": "stream",
          "text": [
            "Downloading data from https://github.com/fchollet/deep-learning-models/releases/download/v0.1/vgg16_weights_tf_dim_ordering_tf_kernels.h5\n",
            "553467904/553467096 [==============================] - 20s 0us/step\n"
          ],
          "name": "stdout"
        },
        {
          "output_type": "stream",
          "text": [
            "W0723 15:27:28.287972 140553635501952 deprecation_wrapper.py:119] From /usr/local/lib/python3.6/dist-packages/keras/backend/tensorflow_backend.py:168: The name tf.get_default_session is deprecated. Please use tf.compat.v1.get_default_session instead.\n",
            "\n",
            "W0723 15:27:28.289469 140553635501952 deprecation_wrapper.py:119] From /usr/local/lib/python3.6/dist-packages/keras/backend/tensorflow_backend.py:175: The name tf.ConfigProto is deprecated. Please use tf.compat.v1.ConfigProto instead.\n",
            "\n"
          ],
          "name": "stderr"
        }
      ]
    },
    {
      "cell_type": "code",
      "metadata": {
        "id": "dR6xuBfHOAIF",
        "colab_type": "code",
        "outputId": "e8b4fd93-146c-4129-da4e-203b4e636826",
        "colab": {
          "base_uri": "https://localhost:8080/",
          "height": 997
        }
      },
      "source": [
        "RaphaelModel.summary()"
      ],
      "execution_count": 0,
      "outputs": [
        {
          "output_type": "stream",
          "text": [
            "_________________________________________________________________\n",
            "Layer (type)                 Output Shape              Param #   \n",
            "=================================================================\n",
            "input_1 (InputLayer)         (None, 224, 224, 3)       0         \n",
            "_________________________________________________________________\n",
            "block1_conv1 (Conv2D)        (None, 224, 224, 64)      1792      \n",
            "_________________________________________________________________\n",
            "block1_conv2 (Conv2D)        (None, 224, 224, 64)      36928     \n",
            "_________________________________________________________________\n",
            "block1_pool (MaxPooling2D)   (None, 112, 112, 64)      0         \n",
            "_________________________________________________________________\n",
            "block2_conv1 (Conv2D)        (None, 112, 112, 128)     73856     \n",
            "_________________________________________________________________\n",
            "block2_conv2 (Conv2D)        (None, 112, 112, 128)     147584    \n",
            "_________________________________________________________________\n",
            "block2_pool (MaxPooling2D)   (None, 56, 56, 128)       0         \n",
            "_________________________________________________________________\n",
            "block3_conv1 (Conv2D)        (None, 56, 56, 256)       295168    \n",
            "_________________________________________________________________\n",
            "block3_conv2 (Conv2D)        (None, 56, 56, 256)       590080    \n",
            "_________________________________________________________________\n",
            "block3_conv3 (Conv2D)        (None, 56, 56, 256)       590080    \n",
            "_________________________________________________________________\n",
            "block3_pool (MaxPooling2D)   (None, 28, 28, 256)       0         \n",
            "_________________________________________________________________\n",
            "block4_conv1 (Conv2D)        (None, 28, 28, 512)       1180160   \n",
            "_________________________________________________________________\n",
            "block4_conv2 (Conv2D)        (None, 28, 28, 512)       2359808   \n",
            "_________________________________________________________________\n",
            "block4_conv3 (Conv2D)        (None, 28, 28, 512)       2359808   \n",
            "_________________________________________________________________\n",
            "block4_pool (MaxPooling2D)   (None, 14, 14, 512)       0         \n",
            "_________________________________________________________________\n",
            "block5_conv1 (Conv2D)        (None, 14, 14, 512)       2359808   \n",
            "_________________________________________________________________\n",
            "block5_conv2 (Conv2D)        (None, 14, 14, 512)       2359808   \n",
            "_________________________________________________________________\n",
            "block5_conv3 (Conv2D)        (None, 14, 14, 512)       2359808   \n",
            "_________________________________________________________________\n",
            "block5_pool (MaxPooling2D)   (None, 7, 7, 512)         0         \n",
            "_________________________________________________________________\n",
            "flatten (Flatten)            (None, 25088)             0         \n",
            "_________________________________________________________________\n",
            "fc1 (Dense)                  (None, 4096)              102764544 \n",
            "_________________________________________________________________\n",
            "fc2 (Dense)                  (None, 4096)              16781312  \n",
            "_________________________________________________________________\n",
            "predictions (Dense)          (None, 1000)              4097000   \n",
            "=================================================================\n",
            "Total params: 138,357,544\n",
            "Trainable params: 138,357,544\n",
            "Non-trainable params: 0\n",
            "_________________________________________________________________\n"
          ],
          "name": "stdout"
        }
      ]
    },
    {
      "cell_type": "code",
      "metadata": {
        "id": "-AA0v8rDPQCl",
        "colab_type": "code",
        "colab": {}
      },
      "source": [
        "model = Sequential()\n",
        "for layer in RaphaelModel.layers[:-1]: \n",
        "\tmodel.add(layer)"
      ],
      "execution_count": 0,
      "outputs": []
    },
    {
      "cell_type": "code",
      "metadata": {
        "id": "NWKM6erTPVz2",
        "colab_type": "code",
        "outputId": "7275370c-8a40-412b-b7c9-4291d6837049",
        "colab": {
          "base_uri": "https://localhost:8080/",
          "height": 960
        }
      },
      "source": [
        "model.summary()"
      ],
      "execution_count": 0,
      "outputs": [
        {
          "output_type": "stream",
          "text": [
            "_________________________________________________________________\n",
            "Layer (type)                 Output Shape              Param #   \n",
            "=================================================================\n",
            "input_1 (InputLayer)         (None, 224, 224, 3)       0         \n",
            "_________________________________________________________________\n",
            "block1_conv1 (Conv2D)        (None, 224, 224, 64)      1792      \n",
            "_________________________________________________________________\n",
            "block1_conv2 (Conv2D)        (None, 224, 224, 64)      36928     \n",
            "_________________________________________________________________\n",
            "block1_pool (MaxPooling2D)   (None, 112, 112, 64)      0         \n",
            "_________________________________________________________________\n",
            "block2_conv1 (Conv2D)        (None, 112, 112, 128)     73856     \n",
            "_________________________________________________________________\n",
            "block2_conv2 (Conv2D)        (None, 112, 112, 128)     147584    \n",
            "_________________________________________________________________\n",
            "block2_pool (MaxPooling2D)   (None, 56, 56, 128)       0         \n",
            "_________________________________________________________________\n",
            "block3_conv1 (Conv2D)        (None, 56, 56, 256)       295168    \n",
            "_________________________________________________________________\n",
            "block3_conv2 (Conv2D)        (None, 56, 56, 256)       590080    \n",
            "_________________________________________________________________\n",
            "block3_conv3 (Conv2D)        (None, 56, 56, 256)       590080    \n",
            "_________________________________________________________________\n",
            "block3_pool (MaxPooling2D)   (None, 28, 28, 256)       0         \n",
            "_________________________________________________________________\n",
            "block4_conv1 (Conv2D)        (None, 28, 28, 512)       1180160   \n",
            "_________________________________________________________________\n",
            "block4_conv2 (Conv2D)        (None, 28, 28, 512)       2359808   \n",
            "_________________________________________________________________\n",
            "block4_conv3 (Conv2D)        (None, 28, 28, 512)       2359808   \n",
            "_________________________________________________________________\n",
            "block4_pool (MaxPooling2D)   (None, 14, 14, 512)       0         \n",
            "_________________________________________________________________\n",
            "block5_conv1 (Conv2D)        (None, 14, 14, 512)       2359808   \n",
            "_________________________________________________________________\n",
            "block5_conv2 (Conv2D)        (None, 14, 14, 512)       2359808   \n",
            "_________________________________________________________________\n",
            "block5_conv3 (Conv2D)        (None, 14, 14, 512)       2359808   \n",
            "_________________________________________________________________\n",
            "block5_pool (MaxPooling2D)   (None, 7, 7, 512)         0         \n",
            "_________________________________________________________________\n",
            "flatten (Flatten)            (None, 25088)             0         \n",
            "_________________________________________________________________\n",
            "fc1 (Dense)                  (None, 4096)              102764544 \n",
            "_________________________________________________________________\n",
            "fc2 (Dense)                  (None, 4096)              16781312  \n",
            "=================================================================\n",
            "Total params: 134,260,544\n",
            "Trainable params: 134,260,544\n",
            "Non-trainable params: 0\n",
            "_________________________________________________________________\n"
          ],
          "name": "stdout"
        }
      ]
    },
    {
      "cell_type": "code",
      "metadata": {
        "id": "d4gaTiBWPfYe",
        "colab_type": "code",
        "outputId": "05cee0fc-a960-49d4-b9d5-5d35155e8f55",
        "colab": {
          "base_uri": "https://localhost:8080/",
          "height": 997
        }
      },
      "source": [
        "for layer in model.layers:\n",
        "\tlayer.trainable = False  \n",
        "  \n",
        "model.add(Dense(10, activation='softmax'))  \n",
        "\n",
        "model.summary()  "
      ],
      "execution_count": 0,
      "outputs": [
        {
          "output_type": "stream",
          "text": [
            "_________________________________________________________________\n",
            "Layer (type)                 Output Shape              Param #   \n",
            "=================================================================\n",
            "input_1 (InputLayer)         (None, 224, 224, 3)       0         \n",
            "_________________________________________________________________\n",
            "block1_conv1 (Conv2D)        (None, 224, 224, 64)      1792      \n",
            "_________________________________________________________________\n",
            "block1_conv2 (Conv2D)        (None, 224, 224, 64)      36928     \n",
            "_________________________________________________________________\n",
            "block1_pool (MaxPooling2D)   (None, 112, 112, 64)      0         \n",
            "_________________________________________________________________\n",
            "block2_conv1 (Conv2D)        (None, 112, 112, 128)     73856     \n",
            "_________________________________________________________________\n",
            "block2_conv2 (Conv2D)        (None, 112, 112, 128)     147584    \n",
            "_________________________________________________________________\n",
            "block2_pool (MaxPooling2D)   (None, 56, 56, 128)       0         \n",
            "_________________________________________________________________\n",
            "block3_conv1 (Conv2D)        (None, 56, 56, 256)       295168    \n",
            "_________________________________________________________________\n",
            "block3_conv2 (Conv2D)        (None, 56, 56, 256)       590080    \n",
            "_________________________________________________________________\n",
            "block3_conv3 (Conv2D)        (None, 56, 56, 256)       590080    \n",
            "_________________________________________________________________\n",
            "block3_pool (MaxPooling2D)   (None, 28, 28, 256)       0         \n",
            "_________________________________________________________________\n",
            "block4_conv1 (Conv2D)        (None, 28, 28, 512)       1180160   \n",
            "_________________________________________________________________\n",
            "block4_conv2 (Conv2D)        (None, 28, 28, 512)       2359808   \n",
            "_________________________________________________________________\n",
            "block4_conv3 (Conv2D)        (None, 28, 28, 512)       2359808   \n",
            "_________________________________________________________________\n",
            "block4_pool (MaxPooling2D)   (None, 14, 14, 512)       0         \n",
            "_________________________________________________________________\n",
            "block5_conv1 (Conv2D)        (None, 14, 14, 512)       2359808   \n",
            "_________________________________________________________________\n",
            "block5_conv2 (Conv2D)        (None, 14, 14, 512)       2359808   \n",
            "_________________________________________________________________\n",
            "block5_conv3 (Conv2D)        (None, 14, 14, 512)       2359808   \n",
            "_________________________________________________________________\n",
            "block5_pool (MaxPooling2D)   (None, 7, 7, 512)         0         \n",
            "_________________________________________________________________\n",
            "flatten (Flatten)            (None, 25088)             0         \n",
            "_________________________________________________________________\n",
            "fc1 (Dense)                  (None, 4096)              102764544 \n",
            "_________________________________________________________________\n",
            "fc2 (Dense)                  (None, 4096)              16781312  \n",
            "_________________________________________________________________\n",
            "dense_1 (Dense)              (None, 10)                40970     \n",
            "=================================================================\n",
            "Total params: 134,301,514\n",
            "Trainable params: 40,970\n",
            "Non-trainable params: 134,260,544\n",
            "_________________________________________________________________\n"
          ],
          "name": "stdout"
        }
      ]
    },
    {
      "cell_type": "code",
      "metadata": {
        "id": "NXS2FAfIZLin",
        "colab_type": "code",
        "outputId": "2ab84f48-1b8b-4a2e-8357-cfb3bda7dd0f",
        "colab": {
          "base_uri": "https://localhost:8080/",
          "height": 1000
        }
      },
      "source": [
        "model.compile(SGD(lr=0.001), loss='categorical_crossentropy', metrics=['acc'])\n",
        "\n",
        "stop = EarlyStopping(monitor='val_loss', verbose = 1, mode='min', patience=6, )\n",
        "\n",
        "history = model.fit_generator(train_batches, steps_per_epoch=125,\n",
        "\t\t\t\t\tvalidation_data=valid_batches, validation_steps=32, epochs=50, verbose=2, callbacks=[stop])\n",
        "\n",
        "\n"
      ],
      "execution_count": 0,
      "outputs": [
        {
          "output_type": "stream",
          "text": [
            "W0723 15:27:32.523447 140553635501952 deprecation_wrapper.py:119] From /usr/local/lib/python3.6/dist-packages/keras/optimizers.py:757: The name tf.train.Optimizer is deprecated. Please use tf.compat.v1.train.Optimizer instead.\n",
            "\n",
            "W0723 15:27:32.619569 140553635501952 deprecation.py:323] From /usr/local/lib/python3.6/dist-packages/tensorflow/python/ops/math_grad.py:1250: add_dispatch_support.<locals>.wrapper (from tensorflow.python.ops.array_ops) is deprecated and will be removed in a future version.\n",
            "Instructions for updating:\n",
            "Use tf.where in 2.0, which has the same broadcast rule as np.where\n"
          ],
          "name": "stderr"
        },
        {
          "output_type": "stream",
          "text": [
            "Epoch 1/50\n"
          ],
          "name": "stdout"
        },
        {
          "output_type": "stream",
          "text": [
            "/usr/local/lib/python3.6/dist-packages/PIL/Image.py:914: UserWarning: Palette images with Transparency   expressed in bytes should be converted to RGBA images\n",
            "  'to RGBA images')\n"
          ],
          "name": "stderr"
        },
        {
          "output_type": "stream",
          "text": [
            " - 33s - loss: 2.2204 - acc: 0.2869 - val_loss: 1.8383 - val_acc: 0.3800\n",
            "Epoch 2/50\n",
            " - 24s - loss: 1.5602 - acc: 0.4670 - val_loss: 1.6012 - val_acc: 0.4590\n",
            "Epoch 3/50\n",
            " - 25s - loss: 1.3259 - acc: 0.5429 - val_loss: 1.4788 - val_acc: 0.5000\n",
            "Epoch 4/50\n",
            " - 24s - loss: 1.1880 - acc: 0.5960 - val_loss: 1.3959 - val_acc: 0.5260\n",
            "Epoch 5/50\n",
            " - 24s - loss: 1.0965 - acc: 0.6339 - val_loss: 1.3653 - val_acc: 0.5480\n",
            "Epoch 6/50\n",
            " - 24s - loss: 1.0249 - acc: 0.6539 - val_loss: 1.3536 - val_acc: 0.5640\n",
            "Epoch 7/50\n",
            " - 25s - loss: 0.9660 - acc: 0.6728 - val_loss: 1.3542 - val_acc: 0.5620\n",
            "Epoch 8/50\n",
            " - 24s - loss: 0.9157 - acc: 0.6950 - val_loss: 1.3076 - val_acc: 0.5720\n",
            "Epoch 9/50\n",
            " - 24s - loss: 0.8706 - acc: 0.7153 - val_loss: 1.2927 - val_acc: 0.5860\n",
            "Epoch 10/50\n",
            " - 24s - loss: 0.8330 - acc: 0.7256 - val_loss: 1.2758 - val_acc: 0.5740\n",
            "Epoch 11/50\n",
            " - 24s - loss: 0.8023 - acc: 0.7390 - val_loss: 1.2815 - val_acc: 0.5890\n",
            "Epoch 12/50\n",
            " - 24s - loss: 0.7703 - acc: 0.7531 - val_loss: 1.2721 - val_acc: 0.5890\n",
            "Epoch 13/50\n",
            " - 24s - loss: 0.7435 - acc: 0.7624 - val_loss: 1.2504 - val_acc: 0.5960\n",
            "Epoch 14/50\n",
            " - 24s - loss: 0.7220 - acc: 0.7730 - val_loss: 1.2434 - val_acc: 0.5980\n",
            "Epoch 15/50\n",
            " - 24s - loss: 0.6945 - acc: 0.7879 - val_loss: 1.2200 - val_acc: 0.6040\n",
            "Epoch 16/50\n",
            " - 24s - loss: 0.6753 - acc: 0.7907 - val_loss: 1.2291 - val_acc: 0.6100\n",
            "Epoch 17/50\n",
            " - 24s - loss: 0.6558 - acc: 0.8023 - val_loss: 1.2171 - val_acc: 0.6100\n",
            "Epoch 18/50\n",
            " - 24s - loss: 0.6354 - acc: 0.8069 - val_loss: 1.2432 - val_acc: 0.5980\n",
            "Epoch 19/50\n",
            " - 24s - loss: 0.6195 - acc: 0.8136 - val_loss: 1.2187 - val_acc: 0.5980\n",
            "Epoch 20/50\n",
            " - 24s - loss: 0.6023 - acc: 0.8165 - val_loss: 1.2127 - val_acc: 0.6120\n",
            "Epoch 21/50\n",
            " - 24s - loss: 0.5847 - acc: 0.8226 - val_loss: 1.2030 - val_acc: 0.6160\n",
            "Epoch 22/50\n",
            " - 24s - loss: 0.5701 - acc: 0.8311 - val_loss: 1.2065 - val_acc: 0.6120\n",
            "Epoch 23/50\n",
            " - 24s - loss: 0.5579 - acc: 0.8345 - val_loss: 1.1931 - val_acc: 0.6120\n",
            "Epoch 24/50\n",
            " - 24s - loss: 0.5427 - acc: 0.8456 - val_loss: 1.2133 - val_acc: 0.6010\n",
            "Epoch 25/50\n",
            " - 24s - loss: 0.5309 - acc: 0.8465 - val_loss: 1.1897 - val_acc: 0.6180\n",
            "Epoch 26/50\n",
            " - 24s - loss: 0.5189 - acc: 0.8508 - val_loss: 1.2070 - val_acc: 0.6120\n",
            "Epoch 27/50\n",
            " - 24s - loss: 0.5098 - acc: 0.8566 - val_loss: 1.1880 - val_acc: 0.6080\n",
            "Epoch 28/50\n",
            " - 24s - loss: 0.4971 - acc: 0.8630 - val_loss: 1.1884 - val_acc: 0.6180\n",
            "Epoch 29/50\n",
            " - 24s - loss: 0.4864 - acc: 0.8648 - val_loss: 1.1919 - val_acc: 0.6260\n",
            "Epoch 30/50\n",
            " - 24s - loss: 0.4766 - acc: 0.8686 - val_loss: 1.1766 - val_acc: 0.6260\n",
            "Epoch 31/50\n",
            " - 24s - loss: 0.4654 - acc: 0.8752 - val_loss: 1.1631 - val_acc: 0.6320\n",
            "Epoch 32/50\n",
            " - 24s - loss: 0.4577 - acc: 0.8804 - val_loss: 1.1928 - val_acc: 0.6160\n",
            "Epoch 33/50\n",
            " - 24s - loss: 0.4490 - acc: 0.8829 - val_loss: 1.1787 - val_acc: 0.6260\n",
            "Epoch 34/50\n",
            " - 24s - loss: 0.4384 - acc: 0.8852 - val_loss: 1.1909 - val_acc: 0.6340\n",
            "Epoch 00034: early stopping\n"
          ],
          "name": "stdout"
        }
      ]
    },
    {
      "cell_type": "code",
      "metadata": {
        "id": "Hk73E8P4JXA5",
        "colab_type": "code",
        "colab": {}
      },
      "source": [
        "#model.save(Original3/Models/ProjectModel3.h5)"
      ],
      "execution_count": 0,
      "outputs": []
    }
  ]
}